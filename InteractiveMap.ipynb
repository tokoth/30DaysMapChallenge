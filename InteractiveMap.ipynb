{
 "cells": [
  {
   "cell_type": "markdown",
   "id": "2b6548fa-023c-4e7e-bf12-5b0e01deabc0",
   "metadata": {},
   "source": [
    "## Interactive Map"
   ]
  }
 ],
 "metadata": {
  "kernelspec": {
   "display_name": "Python 3 (ipykernel)",
   "language": "python",
   "name": "python3"
  },
  "language_info": {
   "codemirror_mode": {
    "name": "ipython",
    "version": 3
   },
   "file_extension": ".py",
   "mimetype": "text/x-python",
   "name": "python",
   "nbconvert_exporter": "python",
   "pygments_lexer": "ipython3",
   "version": "3.8.10"
  }
 },
 "nbformat": 4,
 "nbformat_minor": 5
}
